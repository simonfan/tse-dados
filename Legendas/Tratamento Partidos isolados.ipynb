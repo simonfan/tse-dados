{
 "cells": [
  {
   "cell_type": "code",
   "execution_count": 12,
   "metadata": {
    "collapsed": false
   },
   "outputs": [],
   "source": [
    "import pandas as pd\n",
    "\n",
    "\n",
    "names = [\"DATA_GERACAO\",\n",
    "    \"HORA_GERACAO\",\n",
    "    \"ANO_ELEICAO\",\n",
    "    \"NUM_TURNO\",\n",
    "    \"DESCRICAO_ELEICAO\",\n",
    "    \"SIGLA_UF\",\n",
    "    \"SIGLA_UE\",\n",
    "    \"NOME_UE\",\n",
    "    \"CODIGO_CARGO\",\n",
    "    \"DESCRICAO_CARGO\",\n",
    "    \"TIPO_LEGENDA\",\n",
    "    \"NUM_PARTIDO\",\n",
    "    \"SIGLA_PARTIDO\",\n",
    "    \"NOME_PARTIDO\",\n",
    "    \"SIGLA_COLIGACAO\",\n",
    "    \"NOME_COLIGACAO\",\n",
    "    \"COMPOSICAO_COLIGACAO\",\n",
    "    \"SEQUENCIA_COLIGACAO\"]\n",
    "\n"
   ]
  },
  {
   "cell_type": "code",
   "execution_count": 22,
   "metadata": {
    "collapsed": false
   },
   "outputs": [
    {
     "name": "stdout",
     "output_type": "stream",
     "text": [
      "1998  - Quantidade de partidos isolados: 0\n",
      "2000  - Quantidade de partidos isolados: 0\n",
      "2002  - Quantidade de partidos isolados: 0\n",
      "2004  - Quantidade de partidos isolados: 14317\n",
      "2006  - Quantidade de partidos isolados: 939\n",
      "2008  - Quantidade de partidos isolados: 10965\n",
      "2010  - Quantidade de partidos isolados: 776\n",
      "2012  - Quantidade de partidos isolados: 11311\n",
      "2014  - Quantidade de partidos isolados: 0\n",
      "2016  - Quantidade de partidos isolados: 10987\n"
     ]
    }
   ],
   "source": [
    "for year in range(1998,2017,2):\n",
    "    data = pd.read_csv(\"output/legendas_{}.csv\".format(year,year),sep=\";\",names = names)\n",
    "    data = data[data[\"TIPO_LEGENDA\"]==\"PARTIDO ISOLADO\"]\n",
    "    print(\"{}  - Quantidade de partidos isolados: {}\".format(year,data.shape[0]))"
   ]
  },
  {
   "cell_type": "code",
   "execution_count": null,
   "metadata": {
    "collapsed": true
   },
   "outputs": [],
   "source": []
  }
 ],
 "metadata": {
  "kernelspec": {
   "display_name": "Python 2",
   "language": "python",
   "name": "python2"
  },
  "language_info": {
   "codemirror_mode": {
    "name": "ipython",
    "version": 2
   },
   "file_extension": ".py",
   "mimetype": "text/x-python",
   "name": "python",
   "nbconvert_exporter": "python",
   "pygments_lexer": "ipython2",
   "version": "2.7.13"
  }
 },
 "nbformat": 4,
 "nbformat_minor": 2
}
