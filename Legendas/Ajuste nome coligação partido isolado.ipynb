{
 "cells": [
  {
   "cell_type": "code",
   "execution_count": 19,
   "metadata": {
    "collapsed": false
   },
   "outputs": [
    {
     "name": "stdout",
     "output_type": "stream",
     "text": [
      "Ano1998\n",
      "Ano2000\n",
      "Ano2002\n",
      "Ano2004\n"
     ]
    },
    {
     "name": "stderr",
     "output_type": "stream",
     "text": [
      "/Users/abraao/anaconda/lib/python2.7/site-packages/ipykernel/__main__.py:27: SettingWithCopyWarning: \n",
      "A value is trying to be set on a copy of a slice from a DataFrame.\n",
      "Try using .loc[row_indexer,col_indexer] = value instead\n",
      "\n",
      "See the caveats in the documentation: http://pandas.pydata.org/pandas-docs/stable/indexing.html#indexing-view-versus-copy\n",
      "/Users/abraao/anaconda/lib/python2.7/site-packages/ipykernel/__main__.py:28: SettingWithCopyWarning: \n",
      "A value is trying to be set on a copy of a slice from a DataFrame.\n",
      "Try using .loc[row_indexer,col_indexer] = value instead\n",
      "\n",
      "See the caveats in the documentation: http://pandas.pydata.org/pandas-docs/stable/indexing.html#indexing-view-versus-copy\n",
      "/Users/abraao/anaconda/lib/python2.7/site-packages/ipykernel/__main__.py:29: SettingWithCopyWarning: \n",
      "A value is trying to be set on a copy of a slice from a DataFrame.\n",
      "Try using .loc[row_indexer,col_indexer] = value instead\n",
      "\n",
      "See the caveats in the documentation: http://pandas.pydata.org/pandas-docs/stable/indexing.html#indexing-view-versus-copy\n"
     ]
    },
    {
     "name": "stdout",
     "output_type": "stream",
     "text": [
      "Ano2006\n",
      "Ano2008\n",
      "Ano2010\n",
      "Ano2012\n",
      "Ano2014\n",
      "Ano2016\n"
     ]
    }
   ],
   "source": [
    "import pandas as pd\n",
    "\n",
    "names = [\"DATA_GERACAO\",\n",
    "    \"HORA_GERACAO\",\n",
    "    \"ANO_ELEICAO\",\n",
    "    \"NUM_TURNO\",\n",
    "    \"DESCRICAO_ELEICAO\",\n",
    "    \"SIGLA_UF\",\n",
    "    \"SIGLA_UE\",\n",
    "    \"NOME_UE\",\n",
    "    \"CODIGO_CARGO\",\n",
    "    \"DESCRICAO_CARGO\",\n",
    "    \"TIPO_LEGENDA\",\n",
    "    \"NUM_PARTIDO\",\n",
    "    \"SIGLA_PARTIDO\",\n",
    "    \"NOME_PARTIDO\",\n",
    "    \"SIGLA_COLIGACAO\",\n",
    "    \"NOME_COLIGACAO\",\n",
    "    \"COMPOSICAO_COLIGACAO\",\n",
    "    \"SEQUENCIA_COLIGACAO\"]\n",
    "\n",
    "def run(year = 2016):\n",
    "    data_from = pd.read_csv(\"input/\"+str(year)+\"/legendas_\"+str(year)+\".csv.gz\", sep=\";\",names=names)\n",
    "    partidos_isolados = data_from[data_from[\"TIPO_LEGENDA\"]==\"PARTIDO ISOLADO\"]\n",
    "    partidos_coligados= data_from[data_from[\"TIPO_LEGENDA\"]!=\"PARTIDO ISOLADO\"]\n",
    "    \n",
    "    partidos_isolados[\"SIGLA_COLIGACAO\"] = partidos_isolados[\"SIGLA_PARTIDO\"]\n",
    "    partidos_isolados[\"NOME_COLIGACAO\"] = partidos_isolados[\"NOME_PARTIDO\"]\n",
    "    partidos_isolados[\"COMPOSICAO_COLIGACAO\"] = partidos_isolados[\"SIGLA_PARTIDO\"]\n",
    "\n",
    "    data_to = partidos_isolados.append(partidos_coligados)\n",
    "    \n",
    "    \n",
    "    #filtro presidente\n",
    "    data = data_to[data_to[\"CODIGO_CARGO\"]!=1]\n",
    "    data.to_csv(\"output/legendas_\"+str(year)+\".csv\", sep=\";\",header=False, index=False)\n",
    "\n",
    "    \n",
    "for year in range(1998,2017,2):\n",
    "    print(\"Ano\" + str(year))\n",
    "    run(year)"
   ]
  },
  {
   "cell_type": "code",
   "execution_count": null,
   "metadata": {
    "collapsed": true
   },
   "outputs": [],
   "source": []
  }
 ],
 "metadata": {
  "kernelspec": {
   "display_name": "Python 2",
   "language": "python",
   "name": "python2"
  },
  "language_info": {
   "codemirror_mode": {
    "name": "ipython",
    "version": 2
   },
   "file_extension": ".py",
   "mimetype": "text/x-python",
   "name": "python",
   "nbconvert_exporter": "python",
   "pygments_lexer": "ipython2",
   "version": "2.7.13"
  }
 },
 "nbformat": 4,
 "nbformat_minor": 2
}
