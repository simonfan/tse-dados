{
 "cells": [
  {
   "cell_type": "code",
   "execution_count": 35,
   "metadata": {
    "collapsed": false
   },
   "outputs": [],
   "source": [
    "import pandas as pd\n",
    "names_l = [\"DATA_GERACAO\",\n",
    "    \"HORA_GERACAO\",\n",
    "    \"ANO_ELEICAO\",\n",
    "    \"NUM_TURNO\",\n",
    "    \"DESCRICAO_ELEICAO\",\n",
    "    \"SIGLA_UF\",\n",
    "    \"SIGLA_UE\",\n",
    "    \"NOME_UE\",\n",
    "    \"CODIGO_CARGO\",\n",
    "    \"DESCRICAO_CARGO\",\n",
    "    \"TIPO_LEGENDA\",\n",
    "    \"NUM_PARTIDO\",\n",
    "    \"SIGLA_PARTIDO\",\n",
    "    \"NOME_PARTIDO\",\n",
    "    \"SIGLA_COLIGACAO\",\n",
    "    \"NOME_COLIGACAO\",\n",
    "    \"COMPOSICAO_COLIGACAO\",\n",
    "    \"SEQUENCIA_COLIGACAO\"]\n",
    "\n",
    "names_c = [\"DATA_GERACAO\",\n",
    "\"HORA_GERACAO\",\n",
    "\"ANO_ELEICAO\",\n",
    "\"NUM_TURNO\",\n",
    "\"DESCRICAO_ELEICAO\",\n",
    "\"SIGLA_UF\",\n",
    "\"SIGLA_UE\",\n",
    "\"DESCRICAO_UE\",\n",
    "\"CODIGO_CARGO\",\n",
    "\"DESCRICAO_CARGO\",\n",
    "\"NOME_CANDIDATO\",\n",
    "\"SEQUENCIAL_CANDIDATO\",\n",
    "\"NUMERO_CANDIDATO\",\n",
    "\"CPF_CANDIDATO\",\n",
    "\"NOME_URNA_CANDIDATO\",\n",
    "\"COD_SITUACAO_CANDIDATURA\",\n",
    "\"DES_SITUACAO_CANDIDATURA\",\n",
    "\"NUMERO_PARTIDO\",\n",
    "\"SIGLA_PARTIDO\",\n",
    "\"NOME_PARTIDO\",\n",
    "\"CODIGO_LEGENDA\",\n",
    "\"SIGLA_LEGENDA\",\n",
    "\"COMPOSICAO_LEGENDA\",\n",
    "\"NOME_LEGENDA\",\n",
    "\"CODIGO_OCUPACAO\",\n",
    "\"DESCRICAO_OCUPACAO\",\n",
    "\"DATA_NASCIMENTO\",\n",
    "\"NUM_TITULO_ELEITORAL_CANDIDATO\",\n",
    "\"IDADE_DATA_ELEICAO\",\n",
    "\"CODIGO_SEXO\",\n",
    "\"DESCRICAO_SEXO\",\n",
    "\"COD_GRAU_INSTRUCAO\",\n",
    "\"DESCRICAO_GRAU_INSTRUCAO\",\n",
    "\"CODIGO_ESTADO_CIVIL\",\n",
    "\"DESCRICAO_ESTADO_CIVIL\",\n",
    "\"CODIGO_COR_RACA\",\n",
    "\"DESCRICAO_COR_RACA\",\n",
    "\"CODIGO_NACIONALIDADE\",\n",
    "\"DESCRICAO_NACIONALIDADE\",\n",
    "\"SIGLA_UF_NASCIMENTO\",\n",
    "\"CODIGO_MUNICIPIO_NASCIMENTO\",\n",
    "\"NOME_MUNICIPIO_NASCIMENTO\",\n",
    "\"DESPESA_MAX_CAMPANHA\",\n",
    "\"COD_SIT_TOT_TURNO\",\n",
    "\"DESC_SIT_TOT_TURNO\",\n",
    "\"NM_EMAIL\"]\n",
    "\n"
   ]
  },
  {
   "cell_type": "code",
   "execution_count": 46,
   "metadata": {
    "collapsed": false
   },
   "outputs": [
    {
     "name": "stdout",
     "output_type": "stream",
     "text": [
      "1998 - Numero partidos isolados: 0\n",
      "2000 - Numero partidos isolados: 0\n",
      "2002 - Numero partidos isolados: 0\n",
      "2004 - Numero partidos isolados: 0\n",
      "2006 - Numero partidos isolados: 0\n",
      "2008 - Numero partidos isolados: 0\n",
      "2010 - Numero partidos isolados: 0\n",
      "2012 - Numero partidos isolados: 9572\n",
      "2014 - Numero partidos isolados: 705\n",
      "2016 - Numero partidos isolados: 10229\n"
     ]
    }
   ],
   "source": [
    "for ano in range(1998,2017,2):\n",
    "    data = pd.read_csv(\"input/candidato_{}.csv.gz\".format(ano),dtype=str, sep=\";\",names = names_c)\n",
    "    data_partidos_isolados = data[data[\"NOME_LEGENDA\"]==\"PARTIDO ISOLADO\"]\n",
    "    data = data_partidos_isolados.groupby(\n",
    "        [\"DATA_GERACAO\",\n",
    "        \"HORA_GERACAO\",\n",
    "        \"ANO_ELEICAO\",\n",
    "        \"NUM_TURNO\",\n",
    "        \"DESCRICAO_ELEICAO\",\n",
    "        \"SIGLA_UF\",\n",
    "        \"SIGLA_UE\",\n",
    "        \"DESCRICAO_UE\",\n",
    "        \"CODIGO_CARGO\",\n",
    "        \"DESCRICAO_CARGO\",\n",
    "        \"NOME_LEGENDA\",\n",
    "        \"NUMERO_PARTIDO\",\n",
    "        \"SIGLA_PARTIDO\",\n",
    "        \"NOME_PARTIDO\",\n",
    "        \"SIGLA_LEGENDA\",\n",
    "        \"COMPOSICAO_LEGENDA\",\n",
    "        \"CODIGO_LEGENDA\"],as_index=False)[\"NOME_CANDIDATO\"].count()\n",
    "\n",
    "    data = data.drop([\"NOME_CANDIDATO\"],1)\n",
    "    data.columns = names_l[:-1]\n",
    "    data[\"SEQUENCIA_COLIGACAO\"] = data[\"COMPOSICAO_COLIGACAO\"]\n",
    "    data[\"COMPOSICAO_COLIGACAO\"] = data[\"SIGLA_PARTIDO\"]\n",
    "    data[\"SIGLA_COLIGACAO\"] = data[\"SIGLA_PARTIDO\"]\n",
    "    data.to_csv(\"output/partidos_isolados/legendas_{}.csv\".format(ano), sep=\";\",index=False,header=False)\n",
    "    print(\"{} - Numero partidos isolados: {}\".format(ano, data.shape[0])) \n",
    "\n"
   ]
  },
  {
   "cell_type": "code",
   "execution_count": null,
   "metadata": {
    "collapsed": false
   },
   "outputs": [],
   "source": []
  },
  {
   "cell_type": "code",
   "execution_count": null,
   "metadata": {
    "collapsed": true
   },
   "outputs": [],
   "source": []
  }
 ],
 "metadata": {
  "kernelspec": {
   "display_name": "Python 2",
   "language": "python",
   "name": "python2"
  },
  "language_info": {
   "codemirror_mode": {
    "name": "ipython",
    "version": 2
   },
   "file_extension": ".py",
   "mimetype": "text/x-python",
   "name": "python",
   "nbconvert_exporter": "python",
   "pygments_lexer": "ipython2",
   "version": "2.7.13"
  }
 },
 "nbformat": 4,
 "nbformat_minor": 2
}
