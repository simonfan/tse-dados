{
 "cells": [
  {
   "cell_type": "code",
   "execution_count": 9,
   "metadata": {
    "collapsed": false
   },
   "outputs": [
    {
     "name": "stdout",
     "output_type": "stream",
     "text": [
      "1998\n",
      "2002\n"
     ]
    },
    {
     "name": "stderr",
     "output_type": "stream",
     "text": [
      "/Users/abraao/anaconda/lib/python2.7/site-packages/IPython/core/interactiveshell.py:2821: DtypeWarning: Columns (26) have mixed types. Specify dtype option on import or set low_memory=False.\n",
      "  if self.run_code(code, result):\n"
     ]
    },
    {
     "name": "stdout",
     "output_type": "stream",
     "text": [
      "2006\n",
      "2010\n",
      "2014\n"
     ]
    }
   ],
   "source": [
    "import pandas as pd\n",
    "\n",
    "names = cand_h = [\"DATA_GERACAO\",\n",
    "\"HORA_GERACAO\",\n",
    "\"ANO_ELEICAO\",\n",
    "\"NUM_TURNO\",\n",
    "\"DESCRICAO_ELEICAO\",\n",
    "\"SIGLA_UF\",\n",
    "\"SIGLA_UE\",\n",
    "\"DESCRICAO_UE\",\n",
    "\"CODIGO_CARGO\",\n",
    "\"DESCRICAO_CARGO\",\n",
    "\"NOME_CANDIDATO\",\n",
    "\"SEQUENCIAL_CANDIDATO\",\n",
    "\"NUMERO_CANDIDATO\",\n",
    "\"CPF_CANDIDATO\",\n",
    "\"NOME_URNA_CANDIDATO\",\n",
    "\"COD_SITUACAO_CANDIDATURA\",\n",
    "\"DES_SITUACAO_CANDIDATURA\",\n",
    "\"NUMERO_PARTIDO\",\n",
    "\"SIGLA_PARTIDO\",\n",
    "\"NOME_PARTIDO\",\n",
    "\"CODIGO_LEGENDA\",\n",
    "\"SIGLA_LEGENDA\",\n",
    "\"COMPOSICAO_LEGENDA\",\n",
    "\"NOME_LEGENDA\",\n",
    "\"CODIGO_OCUPACAO\",\n",
    "\"DESCRICAO_OCUPACAO\",\n",
    "\"DATA_NASCIMENTO\",\n",
    "\"NUM_TITULO_ELEITORAL_CANDIDATO\",\n",
    "\"IDADE_DATA_ELEICAO\",\n",
    "\"CODIGO_SEXO\",\n",
    "\"DESCRICAO_SEXO\",\n",
    "\"COD_GRAU_INSTRUCAO\",\n",
    "\"DESCRICAO_GRAU_INSTRUCAO\",\n",
    "\"CODIGO_ESTADO_CIVIL\",\n",
    "\"DESCRICAO_ESTADO_CIVIL\",\n",
    "\"CODIGO_COR_RACA\",\n",
    "\"DESCRICAO_COR_RACA\",\n",
    "\"CODIGO_NACIONALIDADE\",\n",
    "\"DESCRICAO_NACIONALIDADE\",\n",
    "\"SIGLA_UF_NASCIMENTO\",\n",
    "\"CODIGO_MUNICIPIO_NASCIMENTO\",\n",
    "\"NOME_MUNICIPIO_NASCIMENTO\",\n",
    "\"DESPESA_MAX_CAMPANHA\",\n",
    "\"COD_SIT_TOT_TURNO\",\n",
    "\"DESC_SIT_TOT_TURNO\",\n",
    "\"NM_EMAIL\"]\n",
    "\n",
    "\n",
    "def run(year = 2014):\n",
    "    data_from = pd.read_csv(\"input/candidato_\"+str(year)+\".csv.gz\", sep=\";\",names=names)\n",
    "    data_to = data_from[data_from[\"CODIGO_CARGO\"]!=1]\n",
    "    data_to.to_csv(\"output/candidato_\"+str(year)+\".csv\", sep=\";\",header=False, index=False)\n",
    "\n",
    "    \n",
    "for year in range(1998,2017,4):\n",
    "    print(year)\n",
    "    run(year)"
   ]
  },
  {
   "cell_type": "code",
   "execution_count": null,
   "metadata": {
    "collapsed": true
   },
   "outputs": [],
   "source": []
  }
 ],
 "metadata": {
  "kernelspec": {
   "display_name": "Python 2",
   "language": "python",
   "name": "python2"
  },
  "language_info": {
   "codemirror_mode": {
    "name": "ipython",
    "version": 2
   },
   "file_extension": ".py",
   "mimetype": "text/x-python",
   "name": "python",
   "nbconvert_exporter": "python",
   "pygments_lexer": "ipython2",
   "version": "2.7.13"
  }
 },
 "nbformat": 4,
 "nbformat_minor": 2
}
